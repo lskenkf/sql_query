{
 "cells": [
  {
   "cell_type": "code",
   "execution_count": 26,
   "metadata": {},
   "outputs": [],
   "source": [
    "import pandas as pd \n",
    "import os"
   ]
  },
  {
   "cell_type": "code",
   "execution_count": 27,
   "metadata": {},
   "outputs": [],
   "source": [
    "def rename(table_name,sign_counter):\n",
    "    decision_sign = table_name.split('_')[2]\n",
    "    sign_counter[decision_sign] = sign_counter.get(decision_sign,1) + 1\n",
    "    return f\"{decision_sign}{sign_counter.get(decision_sign,1)-1}\" \n",
    "\n",
    "\n",
    "def generate_sql_template(csv_path):\n",
    "    \n",
    "    df = pd.read_csv(csv_path,delimiter=';') \n",
    "    table_names = list(df['TABLE_NAME'].value_counts().index.values)\n",
    "    pf_key = df['COLUMN_NAME'].value_counts().sort_values().tail(1).index.values[0]\n",
    "    \n",
    "    table_col_names = {}\n",
    "    for table_name in table_names:\n",
    "        col_names = df[df.TABLE_NAME == table_name]['COLUMN_NAME'].values\n",
    "        table_col_names[table_name] = col_names \n",
    "        \n",
    "    CreateTableName = csv_path.split('.')[0]    \n",
    "    select_part = f\" CREATE OR REPLACE FORCE VIEW DWH_BV.{CreateTableName} AS select \" \n",
    "    \n",
    "    for key,value in table_col_names.items():\n",
    "        for i in range(len(value)):\n",
    "            el = value[i]\n",
    "            if el[-2:] in ['SK','BK']:\n",
    "                value[i] = f\"\"\" {el}  AS {el[:-2]+'ID'}  \"\"\"\n",
    "            else:\n",
    "                pass    \n",
    "        temp_select = ','.join([ f'{key}.{el}' for el in value])\n",
    "        select_part = select_part + temp_select + ',' + os.linesep\n",
    "        \n",
    "    sign_counter ={'H':1, 'L':1, 'S':1}    \n",
    "    primary_table = table_names.pop(0)\n",
    "    rename_primary_table = rename(primary_table,sign_counter)\n",
    "    join_part = f\"from DWH_DV.{primary_table} AS {rename_primary_table}\" +  os.linesep\n",
    "    for table_name in table_names:\n",
    "        rename_table_name = rename(table_name,sign_counter)\n",
    "        join_part = join_part + f\" inner join DWH_DV.{table_name}  {rename_table_name} on {rename_primary_table}.{pf_key} = {rename_table_name}.{pf_key} \" +  os.linesep\n",
    "\n",
    "    sql_template = select_part[:-1] + join_part\n",
    "    return sql_template\n",
    "    "
   ]
  },
  {
   "cell_type": "code",
   "execution_count": 28,
   "metadata": {},
   "outputs": [
    {
     "name": "stdout",
     "output_type": "stream",
     "text": [
      " CREATE OR REPLACE FORCE VIEW DWH_BV.MC_ACTIVITY AS select MC_ACTIVITY_S_MCRM. MCACT_SK  AS MCACT_ID  ,MC_ACTIVITY_S_MCRM.MCACT_NAME,MC_ACTIVITY_S_MCRM.MCACT_START_DT,MC_ACTIVITY_S_MCRM.MCACT_STATUS,MC_ACTIVITY_S_MCRM.MCACT_CLICK_CNT,MC_ACTIVITY_S_MCRM.MCACT_OPEN_CNT,MC_ACTIVITY_S_MCRM.MCACT_CAMPAIGN_ID,MC_ACTIVITY_S_MCRM.MCACT_CAMPAIGN_NAME,MC_ACTIVITY_S_MCRM.MCACT_CAMPAIGN_DESC,MC_ACTIVITY_S_MCRM.MCACT_PRD_DETAILS,MC_ACTIVITY_S_MCRM.MCACT_PROGRAM_NAME,MC_ACTIVITY_S_MCRM.MCACT_PROGRAM_DESC,MC_ACTIVITY_S_MCRM.MCACT_RECORD_TYPE_NAME,MC_ACTIVITY_S_MCRM.MCACT_REGION,\n",
      "MC_ACTIVITY_L. MCACT_SK  AS MCACT_ID  ,MC_ACTIVITY_L. MCACT_PRD_SK  AS MCACT_PRD_ID  ,MC_ACTIVITY_L. MCACT_RETP_SK  AS MCACT_RETP_ID  ,MC_ACTIVITY_L. MCACT_CUS_SK  AS MCACT_CUS_ID  ,MC_ACTIVITY_L. MCACT_ACT_SK  AS MCACT_ACT_ID  ,MC_ACTIVITY_L. MCACT_MCACT_SK  AS MCACT_MCACT_ID  ,MC_ACTIVITY_L. MCACT_OWNER_EMP_SK  AS MCACT_OWNER_EMP_ID  ,from DWH_DV.MC_ACTIVITY_S_MCRM AS S1\n",
      " inner join DWH_DV.MC_ACTIVITY_L  L1 on S1.MCACT_SK = L1.MCACT_SK \n",
      "\n"
     ]
    }
   ],
   "source": [
    "csv_path = 'MC_ACTIVITY.csv'\n",
    "sql_template = generate_sql_template(csv_path)\n",
    "print(sql_template)"
   ]
  },
  {
   "cell_type": "code",
   "execution_count": 29,
   "metadata": {},
   "outputs": [
    {
     "name": "stdout",
     "output_type": "stream",
     "text": [
      " CREATE OR REPLACE FORCE VIEW DWH_BV.VAE_CONSENT AS select VAE_CONSENT_S_MAIN. VAECON_SK  AS VAECON_ID  ,VAE_CONSENT_S_MAIN.VAECON_DT,VAE_CONSENT_S_MAIN.VAECON_CHNL_VALUE,VAE_CONSENT_S_MAIN.VAECON_OPT_EXPIRATION_DT,VAE_CONSENT_S_MAIN.VAECON_OPT_SRC,VAE_CONSENT_S_MAIN.VAECON_OPT_TYPE,VAE_CONSENT_S_MAIN.VAECON_OPT_EVENT_TYPE,\n",
      "VAE_CONSENT_L. VAECON_SK  AS VAECON_ID  ,VAE_CONSENT_L. VAECON_CUS_SK  AS VAECON_CUS_ID  ,VAE_CONSENT_L. VAECON_VAECOT_SK  AS VAECON_VAECOT_ID  ,VAE_CONSENT_L. VAECON_CAPTURED_EMP_SK  AS VAECON_CAPTURED_EMP_ID  ,\n",
      "VAE_CONSENT_S_SIGN. VAECON_SK  AS VAECON_ID  ,VAE_CONSENT_S_SIGN.VAECON_SIGN_DT,VAE_CONSENT_S_SIGN.VAECON_SIGN_ID,VAE_CONSENT_S_SIGN.VAECON_SIGN_VALUE,\n",
      "VAE_CONSENT_S_TAIL. VAECON_SK  AS VAECON_ID  ,VAE_CONSENT_S_TAIL.VAECON_SRC_UPDATE_BY,VAE_CONSENT_S_TAIL.VAECON_SRC_CREATE_BY,VAE_CONSENT_S_TAIL.VAECON_DUO_ID,\n",
      "VAE_CONSENT_H. VAECON_SK  AS VAECON_ID  ,VAE_CONSENT_H. VAECON_BK  AS VAECON_ID  ,from DWH_DV.VAE_CONSENT_S_MAIN AS S1\n",
      " inner join DWH_DV.VAE_CONSENT_L  L1 on S1.VAECON_SK = L1.VAECON_SK \n",
      " inner join DWH_DV.VAE_CONSENT_S_SIGN  S2 on S1.VAECON_SK = S2.VAECON_SK \n",
      " inner join DWH_DV.VAE_CONSENT_S_TAIL  S3 on S1.VAECON_SK = S3.VAECON_SK \n",
      " inner join DWH_DV.VAE_CONSENT_H  H1 on S1.VAECON_SK = H1.VAECON_SK \n",
      "\n"
     ]
    }
   ],
   "source": [
    "csv_path = 'VAE_CONSENT.csv'\n",
    "sql_template = generate_sql_template(csv_path)\n",
    "print(sql_template)"
   ]
  },
  {
   "cell_type": "code",
   "execution_count": 30,
   "metadata": {},
   "outputs": [
    {
     "name": "stdout",
     "output_type": "stream",
     "text": [
      " CREATE OR REPLACE FORCE VIEW DWH_BV.VAE_TEMPLATE AS select VAE_TEMPLATE_S_TAIL. VAET_SK  AS VAET_ID  ,VAE_TEMPLATE_S_TAIL.VAET_VAULT_DOCUMENT_ID,VAE_TEMPLATE_S_TAIL.VAET_VAULT_INSTANCE_ID,VAE_TEMPLATE_S_TAIL.VAET_ANY_PRODUCT_FRAGMENT,VAE_TEMPLATE_S_TAIL.VAET_EMAIL_ALLOWS_DOCUMENTS,VAE_TEMPLATE_S_TAIL.VAET_ALLOWED_DOCUMENT_IDS,VAE_TEMPLATE_S_TAIL.VAET_DOCUMENT_HOST_URL,VAE_TEMPLATE_S_TAIL.VAET_DOCUMENT_ID,VAE_TEMPLATE_S_TAIL.VAET_EMAIL_DOMAIN,VAE_TEMPLATE_S_TAIL.VAET_EMAIL_FROM_ADDRESS,VAE_TEMPLATE_S_TAIL.VAET_EMAIL_FROM_NAME,VAE_TEMPLATE_S_TAIL.VAET_EMAIL_REPLYTO_ADDRESS,VAE_TEMPLATE_S_TAIL.VAET_EMAIL_REPLYTO_NAME,VAE_TEMPLATE_S_TAIL.VAET_LANGUAGE,VAE_TEMPLATE_S_TAIL.VAET_OTHER_DOCUMENT_ID_LIST,VAE_TEMPLATE_S_TAIL.VAET_PI_DOCUMENT_ID,VAE_TEMPLATE_S_TAIL.VAET_SRC_UPDATE_BY,VAE_TEMPLATE_S_TAIL.VAET_SRC_CREATE_BY,VAE_TEMPLATE_S_TAIL.VAET_OWNERID,\n",
      "VAE_TEMPLATE_L. VAET_SK  AS VAET_ID  ,VAE_TEMPLATE_L. VAET_PRD_SK  AS VAET_PRD_ID  ,VAE_TEMPLATE_L. VAET_PAR_PRD_SK  AS VAET_PAR_PRD_ID  ,VAE_TEMPLATE_L. VAET_CLMKM_SK  AS VAET_CLMKM_ID  ,VAE_TEMPLATE_L. VAET_RETP_SK  AS VAET_RETP_ID  ,\n",
      "VAE_TEMPLATE_S_MAIN. VAET_SK  AS VAET_ID  ,VAE_TEMPLATE_S_MAIN.VAET_EMAIL_SUBJECT,VAE_TEMPLATE_S_MAIN.VAET_STATUS,VAE_TEMPLATE_S_MAIN.VAET_NAME,VAE_TEMPLATE_S_MAIN.VAET_DESC,\n",
      "VAE_TEMPLATE_H. VAET_SK  AS VAET_ID  ,VAE_TEMPLATE_H. VAET_BK  AS VAET_ID  ,from DWH_DV.VAE_TEMPLATE_S_TAIL AS S1\n",
      " inner join DWH_DV.VAE_TEMPLATE_L  L1 on S1.VAET_SK = L1.VAET_SK \n",
      " inner join DWH_DV.VAE_TEMPLATE_S_MAIN  S2 on S1.VAET_SK = S2.VAET_SK \n",
      " inner join DWH_DV.VAE_TEMPLATE_H  H1 on S1.VAET_SK = H1.VAET_SK \n",
      "\n"
     ]
    }
   ],
   "source": [
    "csv_path = 'VAE_TEMPLATE.csv'\n",
    "sql_template = generate_sql_template(csv_path)\n",
    "print(sql_template)"
   ]
  },
  {
   "cell_type": "code",
   "execution_count": null,
   "metadata": {},
   "outputs": [],
   "source": []
  }
 ],
 "metadata": {
  "kernelspec": {
   "display_name": ".venv",
   "language": "python",
   "name": "python3"
  },
  "language_info": {
   "codemirror_mode": {
    "name": "ipython",
    "version": 3
   },
   "file_extension": ".py",
   "mimetype": "text/x-python",
   "name": "python",
   "nbconvert_exporter": "python",
   "pygments_lexer": "ipython3",
   "version": "3.10.6"
  },
  "orig_nbformat": 4
 },
 "nbformat": 4,
 "nbformat_minor": 2
}
